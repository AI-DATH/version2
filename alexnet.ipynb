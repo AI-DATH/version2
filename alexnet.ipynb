{
 "cells": [
  {
   "cell_type": "markdown",
   "metadata": {},
   "source": [
    "# Import Library"
   ]
  },
  {
   "cell_type": "code",
   "execution_count": 28,
   "metadata": {},
   "outputs": [],
   "source": [
    "import tensorflow as tf\n",
    "import numpy as np\n",
    "import cv2\n",
    "import os\n",
    "import numpy as np\n",
    "import pandas as pd\n",
    "import imageio\n",
    "import random\n",
    "import matplotlib.pyplot as plt\n",
    "\n",
    "from keras.layers import Input\n",
    "from keras.layers import Conv2D\n",
    "from keras.layers import MaxPooling2D\n",
    "from keras.layers import Dropout \n",
    "from keras.layers import Conv2DTranspose\n",
    "from keras.layers import concatenate\n",
    "from keras.layers import BatchNormalization\n",
    "from keras.preprocessing.image import ImageDataGenerator\n",
    "from keras.models import Sequential, Model\n",
    "from keras.layers import Dense, Dropout, Activation, Flatten\n",
    "from keras.callbacks import EarlyStopping\n",
    "\n",
    "\n",
    "from sklearn.metrics import classification_report\n",
    "from sklearn.metrics import confusion_matrix\n",
    "from sklearn.model_selection import train_test_split\n",
    "from sklearn.utils import shuffle\n",
    "\n",
    "from collections import Counter\n"
   ]
  },
  {
   "cell_type": "markdown",
   "metadata": {},
   "source": [
    "# Data Preprocessing"
   ]
  },
  {
   "cell_type": "code",
   "execution_count": 29,
   "metadata": {},
   "outputs": [
    {
     "name": "stdout",
     "output_type": "stream",
     "text": [
      "Data length: 1097\n",
      "labels counts: Counter({1: 561, 2: 416, 0: 120})\n"
     ]
    }
   ],
   "source": [
    "data_dir = 'Data/data/The IQ-OTHNCCD lung cancer dataset/'\n",
    "\n",
    "categories = ['bengin', 'malignant', 'normal']\n",
    "\n",
    "def preprocess_image(file_path):\n",
    "    img = cv2.imread(file_path, 3)\n",
    "    img = cv2.resize(img, (224, 224))\n",
    "    img = img / 255.0  # Chuẩn hóa pixel trong khoảng [0, 1]\n",
    "    return img\n",
    "\n",
    "data = []\n",
    "labels = []\n",
    "\n",
    "for category in categories:\n",
    "    path = os.path.join(data_dir, category)\n",
    "    label = categories.index(category)\n",
    "    for file in os.listdir(path):\n",
    "        file_path = os.path.join(path, file)\n",
    "        img = preprocess_image(file_path)\n",
    "        data.append(img)\n",
    "        labels.append(label)\n",
    "\n",
    "data, labels = shuffle(data, labels, random_state=42)\n",
    "\n",
    "# Kiểm tra cân bằng dữ liệu\n",
    "print('Data length:', len(data))\n",
    "print('labels counts:', Counter(labels))\n",
    "\n",
    "# normalize\n",
    "X = np.array(data).reshape(-1, 224, 224, 3)\n",
    "y = np.array(labels)"
   ]
  },
  {
   "cell_type": "markdown",
   "metadata": {},
   "source": [
    "# Split Data"
   ]
  },
  {
   "cell_type": "code",
   "execution_count": 30,
   "metadata": {},
   "outputs": [
    {
     "name": "stdout",
     "output_type": "stream",
     "text": [
      "Train length: 767 (767, 224, 224, 3)\n",
      "Test length: 330 (330, 224, 224, 3)\n"
     ]
    }
   ],
   "source": [
    "X_train, X_valid, y_train, y_valid = train_test_split(X, y, test_size=0.3, random_state=10)\n",
    "\n",
    "print('Train length:', len(X_train), X_train.shape)\n",
    "print('Test length:', len(X_valid), X_valid.shape)"
   ]
  },
  {
   "cell_type": "markdown",
   "metadata": {},
   "source": [
    "# Data Augmentation"
   ]
  },
  {
   "cell_type": "code",
   "execution_count": 31,
   "metadata": {},
   "outputs": [],
   "source": [
    "train_datagen = ImageDataGenerator()\n",
    "val_datagen = ImageDataGenerator()\n",
    "\n",
    "train_generator = train_datagen.flow(X_train, y_train, batch_size=8, shuffle=True)\n",
    "validation_generator = val_datagen.flow(X_valid, y_valid, batch_size=8, shuffle=True)\n"
   ]
  },
  {
   "cell_type": "markdown",
   "metadata": {},
   "source": [
    "# Build AlexNet Model"
   ]
  },
  {
   "cell_type": "code",
   "execution_count": 32,
   "metadata": {},
   "outputs": [
    {
     "name": "stdout",
     "output_type": "stream",
     "text": [
      "Model: \"model_3\"\n",
      "_________________________________________________________________\n",
      " Layer (type)                Output Shape              Param #   \n",
      "=================================================================\n",
      " input_4 (InputLayer)        [(None, 224, 224, 3)]     0         \n",
      "                                                                 \n",
      " conv2d_15 (Conv2D)          (None, 54, 54, 96)        34944     \n",
      "                                                                 \n",
      " max_pooling2d_9 (MaxPoolin  (None, 26, 26, 96)        0         \n",
      " g2D)                                                            \n",
      "                                                                 \n",
      " conv2d_16 (Conv2D)          (None, 22, 22, 256)       614656    \n",
      "                                                                 \n",
      " max_pooling2d_10 (MaxPooli  (None, 10, 10, 256)       0         \n",
      " ng2D)                                                           \n",
      "                                                                 \n",
      " conv2d_17 (Conv2D)          (None, 8, 8, 384)         885120    \n",
      "                                                                 \n",
      " conv2d_18 (Conv2D)          (None, 6, 6, 384)         1327488   \n",
      "                                                                 \n",
      " conv2d_19 (Conv2D)          (None, 4, 4, 256)         884992    \n",
      "                                                                 \n",
      " max_pooling2d_11 (MaxPooli  (None, 1, 1, 256)         0         \n",
      " ng2D)                                                           \n",
      "                                                                 \n",
      " flatten_3 (Flatten)         (None, 256)               0         \n",
      "                                                                 \n",
      " dense_9 (Dense)             (None, 4096)              1052672   \n",
      "                                                                 \n",
      " dropout_6 (Dropout)         (None, 4096)              0         \n",
      "                                                                 \n",
      " dense_10 (Dense)            (None, 4096)              16781312  \n",
      "                                                                 \n",
      " dropout_7 (Dropout)         (None, 4096)              0         \n",
      "                                                                 \n",
      " dense_11 (Dense)            (None, 3)                 12291     \n",
      "                                                                 \n",
      "=================================================================\n",
      "Total params: 21593475 (82.37 MB)\n",
      "Trainable params: 21593475 (82.37 MB)\n",
      "Non-trainable params: 0 (0.00 Byte)\n",
      "_________________________________________________________________\n"
     ]
    }
   ],
   "source": [
    "def AlexNet(input_shape=(224,224,3)):\n",
    "        inp = Input(input_shape)\n",
    "        # 1st Convolutional Layer\n",
    "        x = Conv2D(96,11,4, activation='relu', padding='valid',kernel_initializer='he_normal')(inp)\n",
    "        # Max Pooling\n",
    "        x = MaxPooling2D(3,2)(x)\n",
    "        # 2st Convolutional Layer\n",
    "        x = Conv2D(256,5,1, activation='relu', padding='valid',kernel_initializer='he_normal')(x)\n",
    "        # Max Pooling\n",
    "        x = MaxPooling2D(3,2)(x)\n",
    "        # 3st Convolutional Layer\n",
    "        x = Conv2D(384,3,1,activation='relu', padding='valid',kernel_initializer='he_normal')(x)\n",
    "        # 4st Convolutional Layer\n",
    "        x = Conv2D(384,3,1,activation='relu', padding='valid',kernel_initializer='he_normal')(x)\n",
    "        # 5st Convolutional Layer\n",
    "        x = Conv2D(256,3,1,activation='relu', padding='valid',kernel_initializer='he_normal')(x)\n",
    "        # Max Pooling\n",
    "        x = MaxPooling2D(3,2)(x)\n",
    "        # Passing it to a Fully Connected layer\n",
    "        x = Flatten()(x)\n",
    "        # 1st fully connected layer has 4096 neurons\n",
    "        x = Dense(4096, activation='relu')(x)\n",
    "        # Add Dropout to prevent overfitting\n",
    "        x = Dropout(0.5)(x)\n",
    "        # 2nd fully connected layer\n",
    "        x = Dense(4096, activation='relu')(x)\n",
    "        # Add droupout\n",
    "        x = Dropout(0.5)(x)\n",
    "        # Output layer\n",
    "        x = Dense(3, activation='softmax')(x)\n",
    "\n",
    "        model = Model(inputs=inp, outputs=x)\n",
    "        return model\n",
    "\n",
    "model = AlexNet()\n",
    "model.summary()"
   ]
  },
  {
   "cell_type": "code",
   "execution_count": 33,
   "metadata": {},
   "outputs": [],
   "source": [
    "# Create an EarlyStopping callback to monitor validation loss and stop training if it doesn't improve for 3 consecutive epochs.\n",
    "callback = EarlyStopping(monitor='val_loss', patience=3)"
   ]
  },
  {
   "cell_type": "markdown",
   "metadata": {},
   "source": [
    "# Compile model"
   ]
  },
  {
   "cell_type": "code",
   "execution_count": 34,
   "metadata": {},
   "outputs": [],
   "source": [
    "model.compile(loss='sparse_categorical_crossentropy', optimizer='adam', metrics=['accuracy'])"
   ]
  },
  {
   "cell_type": "markdown",
   "metadata": {},
   "source": [
    "# Traning model"
   ]
  },
  {
   "cell_type": "code",
   "execution_count": 35,
   "metadata": {},
   "outputs": [
    {
     "name": "stdout",
     "output_type": "stream",
     "text": [
      "Epoch 1/20\n",
      "96/96 [==============================] - 56s 532ms/step - loss: 1.5498 - accuracy: 0.4772 - val_loss: 0.9504 - val_accuracy: 0.5455\n",
      "Epoch 2/20\n",
      "96/96 [==============================] - 55s 571ms/step - loss: 0.9674 - accuracy: 0.4720 - val_loss: 0.9595 - val_accuracy: 0.5455\n",
      "Epoch 3/20\n",
      "96/96 [==============================] - 57s 589ms/step - loss: 0.9616 - accuracy: 0.4707 - val_loss: 0.9520 - val_accuracy: 0.5455\n",
      "Epoch 4/20\n",
      "96/96 [==============================] - 55s 573ms/step - loss: 0.9663 - accuracy: 0.4850 - val_loss: 0.9698 - val_accuracy: 0.5455\n"
     ]
    }
   ],
   "source": [
    "history = model.fit(train_generator, epochs=20, validation_data=validation_generator, callbacks=[callback])"
   ]
  },
  {
   "cell_type": "markdown",
   "metadata": {},
   "source": [
    "# Model Evaluation"
   ]
  },
  {
   "cell_type": "code",
   "execution_count": 36,
   "metadata": {},
   "outputs": [
    {
     "name": "stdout",
     "output_type": "stream",
     "text": [
      "11/11 [==============================] - 2s 170ms/step\n",
      "              precision    recall  f1-score   support\n",
      "\n",
      "           0       0.00      0.00      0.00        39\n",
      "           1       0.55      1.00      0.71       180\n",
      "           2       0.00      0.00      0.00       111\n",
      "\n",
      "    accuracy                           0.55       330\n",
      "   macro avg       0.18      0.33      0.24       330\n",
      "weighted avg       0.30      0.55      0.39       330\n",
      "\n",
      "[[  0  39   0]\n",
      " [  0 180   0]\n",
      " [  0 111   0]]\n"
     ]
    },
    {
     "name": "stderr",
     "output_type": "stream",
     "text": [
      "c:\\Users\\FPTSHOP\\AppData\\Local\\Programs\\Python\\Python311\\Lib\\site-packages\\sklearn\\metrics\\_classification.py:1469: UndefinedMetricWarning: Precision and F-score are ill-defined and being set to 0.0 in labels with no predicted samples. Use `zero_division` parameter to control this behavior.\n",
      "  _warn_prf(average, modifier, msg_start, len(result))\n",
      "c:\\Users\\FPTSHOP\\AppData\\Local\\Programs\\Python\\Python311\\Lib\\site-packages\\sklearn\\metrics\\_classification.py:1469: UndefinedMetricWarning: Precision and F-score are ill-defined and being set to 0.0 in labels with no predicted samples. Use `zero_division` parameter to control this behavior.\n",
      "  _warn_prf(average, modifier, msg_start, len(result))\n",
      "c:\\Users\\FPTSHOP\\AppData\\Local\\Programs\\Python\\Python311\\Lib\\site-packages\\sklearn\\metrics\\_classification.py:1469: UndefinedMetricWarning: Precision and F-score are ill-defined and being set to 0.0 in labels with no predicted samples. Use `zero_division` parameter to control this behavior.\n",
      "  _warn_prf(average, modifier, msg_start, len(result))\n"
     ]
    }
   ],
   "source": [
    "y_pred = model.predict(X_valid, verbose=1)\n",
    "y_pred_bool = np.argmax(y_pred, axis=1)\n",
    "\n",
    "print(classification_report(y_valid, y_pred_bool))\n",
    "print(confusion_matrix(y_true=y_valid, y_pred=y_pred_bool))"
   ]
  },
  {
   "cell_type": "markdown",
   "metadata": {},
   "source": [
    "# Graph"
   ]
  },
  {
   "cell_type": "code",
   "execution_count": 37,
   "metadata": {},
   "outputs": [
    {
     "data": {
      "image/png": "[encoded data removed]",
      "text/plain": [
       "<Figure size 640x480 with 1 Axes>"
      ]
     },
     "metadata": {},
     "output_type": "display_data"
    },
    {
     "data": {
      "image/png": "[encoded data removed]",
      "text/plain": [
       "<Figure size 640x480 with 1 Axes>"
      ]
     },
     "metadata": {},
     "output_type": "display_data"
    }
   ],
   "source": [
    "plt.plot(history.history['accuracy'], label='Train')\n",
    "plt.plot(history.history['val_accuracy'], label='Validation')\n",
    "plt.title('Model Accuracy')\n",
    "plt.ylabel('Accuracy')\n",
    "plt.xlabel('Epoch')\n",
    "plt.legend()\n",
    "plt.show()\n",
    "\n",
    "plt.plot(history.history['loss'], label='Train')\n",
    "plt.plot(history.history['val_loss'], label='Validation')\n",
    "plt.title('Model Loss')\n",
    "plt.ylabel('Loss')\n",
    "plt.xlabel('Epoch')\n",
    "plt.legend()\n",
    "plt.show()"
   ]
  },
  {
   "cell_type": "code",
   "execution_count": null,
   "metadata": {},
   "outputs": [],
   "source": []
  }
 ],
 "metadata": {
  "kernelspec": {
   "display_name": "Python 3",
   "language": "python",
   "name": "python3"
  },
  "language_info": {
   "codemirror_mode": {
    "name": "ipython",
    "version": 3
   },
   "file_extension": ".py",
   "mimetype": "text/x-python",
   "name": "python",
   "nbconvert_exporter": "python",
   "pygments_lexer": "ipython3",
   "version": "3.11.5"
  },
  "orig_nbformat": 4
 },
 "nbformat": 4,
 "nbformat_minor": 2
}
